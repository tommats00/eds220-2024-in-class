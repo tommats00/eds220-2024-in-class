{
 "cells": [
  {
   "cell_type": "markdown",
   "id": "15677630-476d-40e1-a937-ca8fc1fc5042",
   "metadata": {},
   "source": [
    "# Python Review\n",
    "\n",
    "Short Reiew about some core concepts in Python exemplified by objects in the Numpy library.\n",
    "\n",
    "- recall basic Python vocabulary\n",
    "- practice markdown syntax\n",
    "\n",
    "## Libraries and packages\n",
    "\n",
    "**library:** is a collection of code that we can use to perform specific tasks in our program. It can be a single file or multiple files. \n",
    "\n",
    "**NumPy:**\n",
    "\n",
    "- core library for numerical computin in Python\n",
    "- many of libraries use NumPy arrays as their building blocks\n",
    "- computation on NumPy objects are optimized for speed and memory usage. \n",
    "\n",
    "Let's import NumPy with its **standard abbreviation** `np`:"
   ]
  },
  {
   "cell_type": "code",
   "execution_count": 1,
   "id": "4296f719-516c-44ae-858d-d846e84d430c",
   "metadata": {
    "tags": []
   },
   "outputs": [],
   "source": [
    "import numpy as np"
   ]
  },
  {
   "cell_type": "markdown",
   "id": "c850955e-54b4-4919-9083-9adb5b6b9bf7",
   "metadata": {},
   "source": [
    "## Variables\n",
    "\n",
    "**variables:** a name we assign to a particular object in python\n",
    "\n",
    "Example: "
   ]
  },
  {
   "cell_type": "code",
   "execution_count": 2,
   "id": "0d16349a-e835-4c70-9be2-0258c4280d42",
   "metadata": {
    "tags": []
   },
   "outputs": [],
   "source": [
    "# Assign a small array variable a\n",
    "a = np.array([ [1, 1, 2], [3, 5, 8] ])"
   ]
  },
  {
   "cell_type": "markdown",
   "id": "ff1148b1-6c8d-4f9d-b1f8-a16586450367",
   "metadata": {},
   "source": [
    "To view a variable's value from our Jupter notebook:"
   ]
  },
  {
   "cell_type": "code",
   "execution_count": 3,
   "id": "d1467237-2100-4d49-801e-36ec040441da",
   "metadata": {
    "tags": []
   },
   "outputs": [
    {
     "data": {
      "text/plain": [
       "array([[1, 1, 2],\n",
       "       [3, 5, 8]])"
      ]
     },
     "execution_count": 3,
     "metadata": {},
     "output_type": "execute_result"
    }
   ],
   "source": [
    "# run cell with variable name to show value\n",
    "a"
   ]
  },
  {
   "cell_type": "code",
   "execution_count": 4,
   "id": "4a7efb3c-02d0-4087-93be-f36f5e336fde",
   "metadata": {
    "tags": []
   },
   "outputs": [
    {
     "name": "stdout",
     "output_type": "stream",
     "text": [
      "[[1 1 2]\n",
      " [3 5 8]]\n"
     ]
    }
   ],
   "source": [
    "# Use `print` function to print the value\n",
    "print(a)"
   ]
  },
  {
   "cell_type": "code",
   "execution_count": null,
   "id": "fb8f3fb2-0659-4c43-b635-6182c47f964b",
   "metadata": {},
   "outputs": [],
   "source": []
  }
 ],
 "metadata": {
  "kernelspec": {
   "display_name": "Anaconda 3 (Base)",
   "language": "python",
   "name": "base"
  },
  "language_info": {
   "codemirror_mode": {
    "name": "ipython",
    "version": 3
   },
   "file_extension": ".py",
   "mimetype": "text/x-python",
   "name": "python",
   "nbconvert_exporter": "python",
   "pygments_lexer": "ipython3",
   "version": "3.9.13"
  }
 },
 "nbformat": 4,
 "nbformat_minor": 5
}
