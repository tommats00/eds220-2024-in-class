{
 "cells": [
  {
   "cell_type": "markdown",
   "id": "15677630-476d-40e1-a937-ca8fc1fc5042",
   "metadata": {},
   "source": [
    "# Python Review\n",
    "\n",
    "Short Reiew about some core concepts in Python exemplified by objects in the Numpy library.\n",
    "\n",
    "- recall basic Python vocabulary\n",
    "- practice markdown syntax\n",
    "\n",
    "## Libraries and packages\n",
    "\n",
    "**library:** is a collection of code that we can use to perform specific tasks in our program. It can be a single file or multiple files. \n",
    "\n",
    "**NumPy:**\n",
    "\n",
    "- core library for numerical computin in Python\n",
    "- many of libraries use NumPy arrays as their building blocks\n",
    "- computation on NumPy objects are optimized for speed and memory usage. \n",
    "\n",
    "Let's import NumPy with its **standard abbreviation** `np`:"
   ]
  },
  {
   "cell_type": "code",
   "execution_count": 2,
   "id": "4296f719-516c-44ae-858d-d846e84d430c",
   "metadata": {
    "tags": []
   },
   "outputs": [],
   "source": [
    "import numpy as np"
   ]
  },
  {
   "cell_type": "markdown",
   "id": "c850955e-54b4-4919-9083-9adb5b6b9bf7",
   "metadata": {},
   "source": [
    "## Variables\n",
    "\n",
    "**variables:** a name we assign to a particular object in python\n",
    "\n",
    "Example: "
   ]
  },
  {
   "cell_type": "code",
   "execution_count": 3,
   "id": "0d16349a-e835-4c70-9be2-0258c4280d42",
   "metadata": {
    "tags": []
   },
   "outputs": [],
   "source": [
    "# Assign a small array variable a\n",
    "a = np.array([ [1, 1, 2], [3, 5, 8] ])"
   ]
  },
  {
   "cell_type": "markdown",
   "id": "ff1148b1-6c8d-4f9d-b1f8-a16586450367",
   "metadata": {},
   "source": [
    "To view a variable's value from our Jupter notebook:"
   ]
  },
  {
   "cell_type": "code",
   "execution_count": 4,
   "id": "d1467237-2100-4d49-801e-36ec040441da",
   "metadata": {
    "tags": []
   },
   "outputs": [
    {
     "data": {
      "text/plain": [
       "array([[1, 1, 2],\n",
       "       [3, 5, 8]])"
      ]
     },
     "execution_count": 4,
     "metadata": {},
     "output_type": "execute_result"
    }
   ],
   "source": [
    "# run cell with variable name to show value\n",
    "a"
   ]
  },
  {
   "cell_type": "code",
   "execution_count": 5,
   "id": "4a7efb3c-02d0-4087-93be-f36f5e336fde",
   "metadata": {
    "tags": []
   },
   "outputs": [
    {
     "name": "stdout",
     "output_type": "stream",
     "text": [
      "[[1 1 2]\n",
      " [3 5 8]]\n"
     ]
    }
   ],
   "source": [
    "# Use `print` function to print the value\n",
    "print(a)"
   ]
  },
  {
   "cell_type": "markdown",
   "id": "b2525bf8-88cb-47f0-a1c5-1111feef4cf3",
   "metadata": {},
   "source": [
    "## Convention: Use `snake_case` for naming variables.\n",
    "\n",
    "This is the convention we will use in the course. Why? `my-variable` or `MyVariable` or `myVariable`, \n",
    "PEP 8- Style Guide for Python Code recommends `snake_case`. \n",
    "\n",
    "**Remember that variable names should both be descriptive and consise!**\n",
    "\n",
    "## Objects\n",
    "\n",
    "**object:** (informatlly speaking) is a bundle of *properties* and *actions* about something specific.\n",
    "\n",
    "Example:\n",
    "\n",
    "Object: data frame\n",
    "Properties: number of rows, names of columns, and date created\n",
    "Actions: selecting a specific row or adding anew column\n",
    "\n",
    "A variable is the name we give a specific object, and the same object can be referenced by different variables.\n",
    "\n",
    "In practice, we can often use the word variable and object interchangeably. \n",
    "\n",
    "## Types\n",
    "\n",
    "Every Object in Python has a **type**, the type tells us what kind of object we have.\n",
    "We can also call the type of an object, the **class** of an object. So class and object both mean what kind of object we have. "
   ]
  },
  {
   "cell_type": "code",
   "execution_count": 6,
   "id": "c483bdf2-d123-4d96-b0dd-92c8bf65a7a0",
   "metadata": {
    "tags": []
   },
   "outputs": [
    {
     "name": "stdout",
     "output_type": "stream",
     "text": [
      "[[1 1 2]\n",
      " [3 5 8]]\n"
     ]
    }
   ],
   "source": [
    "print(a)"
   ]
  },
  {
   "cell_type": "code",
   "execution_count": 7,
   "id": "95cbedd8-f063-4458-809c-2f6ebfb8e70c",
   "metadata": {
    "tags": []
   },
   "outputs": [
    {
     "data": {
      "text/plain": [
       "numpy.ndarray"
      ]
     },
     "execution_count": 7,
     "metadata": {},
     "output_type": "execute_result"
    }
   ],
   "source": [
    "# See the type/class of a variable/object by using the `type` function\n",
    "type(a)"
   ]
  },
  {
   "cell_type": "code",
   "execution_count": 14,
   "id": "139e3f54-c4c8-4908-b40a-cb153df973b3",
   "metadata": {
    "tags": []
   },
   "outputs": [
    {
     "data": {
      "text/plain": [
       "numpy.ndarray"
      ]
     },
     "execution_count": 14,
     "metadata": {},
     "output_type": "execute_result"
    }
   ],
   "source": [
    "np.ndarray"
   ]
  },
  {
   "cell_type": "code",
   "execution_count": 15,
   "id": "161f341f-fff0-45c9-8ed3-21f6693a9ec9",
   "metadata": {
    "tags": []
   },
   "outputs": [
    {
     "name": "stdout",
     "output_type": "stream",
     "text": [
      "1\n"
     ]
    },
    {
     "data": {
      "text/plain": [
       "numpy.int64"
      ]
     },
     "execution_count": 15,
     "metadata": {},
     "output_type": "execute_result"
    }
   ],
   "source": [
    "print(a[0,0])\n",
    "\n",
    "type(a[0,0])"
   ]
  },
  {
   "cell_type": "markdown",
   "id": "8131937d-8f0a-430f-8813-cf05e55065bd",
   "metadata": {},
   "source": [
    "`numpy.int64` is not the standard Python integer type `int`.\n",
    "\n",
    "`numpy.int64` is a special data type in Numpy telling us that 1 is an integer stored as a 64-bit number. \n",
    "\n",
    "Check-in access the value 5 in array `a`"
   ]
  },
  {
   "cell_type": "code",
   "execution_count": 17,
   "id": "2da0a6b1-32f5-4278-92d7-865c3a411939",
   "metadata": {
    "tags": []
   },
   "outputs": [
    {
     "name": "stdout",
     "output_type": "stream",
     "text": [
      "5\n"
     ]
    }
   ],
   "source": [
    "print(a[1,1])"
   ]
  },
  {
   "cell_type": "markdown",
   "id": "063985c4-162b-44c7-b92a-49f004a0e589",
   "metadata": {},
   "source": [
    "## Functions\n",
    "\n",
    "`print` was our first example of a Python **function**\n",
    "\n",
    "Functions take in a set of **arguments**, separated by commas, and use those arguments to create an **output**\n",
    "\n",
    "In the course we'll be using argument and parameter interchangeably. But they do have slightly different meanings. \n",
    "\n",
    "We can ask for info about what a function does by executing `?` followed by the function name:"
   ]
  },
  {
   "cell_type": "code",
   "execution_count": 19,
   "id": "71c8ac2a-718a-493d-be97-b9e6a34ae10b",
   "metadata": {
    "tags": []
   },
   "outputs": [
    {
     "data": {
      "text/plain": [
       "\u001b[0;31mDocstring:\u001b[0m\n",
       "print(value, ..., sep=' ', end='\\n', file=sys.stdout, flush=False)\n",
       "\n",
       "Prints the values to a stream, or to sys.stdout by default.\n",
       "Optional keyword arguments:\n",
       "file:  a file-like object (stream); defaults to the current sys.stdout.\n",
       "sep:   string inserted between values, default a space.\n",
       "end:   string appended after the last value, default a newline.\n",
       "flush: whether to forcibly flush the stream.\n",
       "\u001b[0;31mType:\u001b[0m      builtin_function_or_method\n"
      ]
     },
     "metadata": {},
     "output_type": "display_data"
    }
   ],
   "source": [
    "?print"
   ]
  },
  {
   "cell_type": "markdown",
   "id": "e4b9710d-a863-4363-8262-7674c9ec9b5e",
   "metadata": {},
   "source": [
    "What we obtain is a **docstring**, a special type of comment that is used to document how a function (or a class, or module) works.\n",
    "\n",
    "Notice is that there are different types of arguments inside the function's paranthesis.\n",
    "\n",
    "Roughly speaking, a function has two types of arguments:\n",
    "\n",
    "- **non-optional arguments**: arguments *you* have to specify for the function to work\n",
    "\n",
    "- **optional arguments**: arguments that are pre-filled with a default value by the function, but you can override them. Optional arguments appear inside the paranthesis () in the form `optional_arugment = default_value`\n",
    "\n",
    "Example\n",
    "\n",
    "`end` is a parameter in `print` with default value a new line\n",
    "We can pass another value `:)` to this parameter so that it finishes the line with `:-)` instead:"
   ]
  },
  {
   "cell_type": "code",
   "execution_count": 21,
   "id": "11ef8c11-5e05-40c0-b987-3ea9ff6e3828",
   "metadata": {
    "tags": []
   },
   "outputs": [
    {
     "name": "stdout",
     "output_type": "stream",
     "text": [
      "Change the end parameter:-)"
     ]
    }
   ],
   "source": [
    "print('Change the end parameter', end = ':-)')"
   ]
  },
  {
   "cell_type": "markdown",
   "id": "159bba9e-504a-42a2-a834-5f512fd5cb53",
   "metadata": {},
   "source": [
    "## Attributes and methods \n",
    "\n",
    "An Object in Python has attributes and methods.\n",
    "\n",
    "- **attribute**: a property of the object, some piece of information about it.\n",
    "- **method**: a procedure associated with an object, so it is an action where the main ingredient is the object itself. \n",
    "\n",
    "## Check-in\n",
    "\n",
    "Make a diagram like the cat one, for a class `fish`. What are its attributes and methods? \n",
    "\n",
    "Example: \n",
    "\n",
    "NumPy arrays have many methods and attribtues. For exampel:"
   ]
  },
  {
   "cell_type": "code",
   "execution_count": 22,
   "id": "8b678f8e-e73f-472a-afee-15e3b5a2a983",
   "metadata": {
    "tags": []
   },
   "outputs": [
    {
     "data": {
      "text/plain": [
       "array([[1, 1, 2],\n",
       "       [3, 5, 8]])"
      ]
     },
     "execution_count": 22,
     "metadata": {},
     "output_type": "execute_result"
    }
   ],
   "source": [
    "a"
   ]
  },
  {
   "cell_type": "code",
   "execution_count": 23,
   "id": "502c17e5-5f2e-45d9-aeec-c67ab5dbb9b1",
   "metadata": {
    "tags": []
   },
   "outputs": [
    {
     "name": "stdout",
     "output_type": "stream",
     "text": [
      "[[1 3]\n",
      " [1 5]\n",
      " [2 8]]\n"
     ]
    }
   ],
   "source": [
    "# T is an example of an attribute, it returns the tranpose of the array\n",
    "print(a.T)"
   ]
  },
  {
   "cell_type": "code",
   "execution_count": 24,
   "id": "cfeb24d8-fba8-443c-9631-c4cb872af9ce",
   "metadata": {
    "tags": []
   },
   "outputs": [
    {
     "data": {
      "text/plain": [
       "numpy.ndarray"
      ]
     },
     "execution_count": 24,
     "metadata": {},
     "output_type": "execute_result"
    }
   ],
   "source": [
    "type(a.T)"
   ]
  },
  {
   "cell_type": "code",
   "execution_count": 27,
   "id": "dd2b41d0-cc20-49d9-bba1-5bd93ba2c8d6",
   "metadata": {
    "tags": []
   },
   "outputs": [
    {
     "name": "stdout",
     "output_type": "stream",
     "text": [
      "(2, 3)\n",
      "<class 'tuple'>\n"
     ]
    }
   ],
   "source": [
    "# shape another attribute tells us the shape of the array\n",
    "print(a.shape)\n",
    "print(type(a.shape))"
   ]
  },
  {
   "cell_type": "code",
   "execution_count": 30,
   "id": "d65b78c8-495d-48f2-a207-8188719b4ff3",
   "metadata": {
    "tags": []
   },
   "outputs": [
    {
     "name": "stdout",
     "output_type": "stream",
     "text": [
      "dim: 2 | type: <class 'int'>\n"
     ]
    }
   ],
   "source": [
    "# ndim is an attribute holding the number of array dimensions\n",
    "print('dim:', a.ndim, '| type:', type(a.ndim))"
   ]
  },
  {
   "cell_type": "markdown",
   "id": "49120ff8-ef7b-4a5c-8d14-d363435f5003",
   "metadata": {},
   "source": [
    "Attributes can have many different data type. \n",
    "\n",
    "Some examples of methods. "
   ]
  },
  {
   "cell_type": "code",
   "execution_count": 31,
   "id": "571c51f0-0d33-4bd4-8313-aebe83866e31",
   "metadata": {
    "tags": []
   },
   "outputs": [
    {
     "name": "stdout",
     "output_type": "stream",
     "text": [
      "[[1 1 2]\n",
      " [3 5 8]]\n"
     ]
    },
    {
     "data": {
      "text/plain": [
       "array([1, 1, 2])"
      ]
     },
     "execution_count": 31,
     "metadata": {},
     "output_type": "execute_result"
    }
   ],
   "source": [
    "# The min method returns the minimum value in the array along a specified axis\n",
    "print(a)\n",
    "a.min(axis=0)"
   ]
  },
  {
   "cell_type": "code",
   "execution_count": 32,
   "id": "184e47d8-5012-4203-85d4-b7219feb875b",
   "metadata": {
    "tags": []
   },
   "outputs": [
    {
     "data": {
      "text/plain": [
       "1"
      ]
     },
     "execution_count": 32,
     "metadata": {},
     "output_type": "execute_result"
    }
   ],
   "source": [
    "# Run min method without axis\n",
    "a.min()"
   ]
  },
  {
   "cell_type": "markdown",
   "id": "8bb74781-b735-4243-b5df-69f15aa25c73",
   "metadata": {},
   "source": [
    "Remember, methods are **functions** associated with an object. We can confirm this! "
   ]
  },
  {
   "cell_type": "code",
   "execution_count": 33,
   "id": "5631260d-b4af-4e3b-8fca-9726d56128f8",
   "metadata": {
    "tags": []
   },
   "outputs": [
    {
     "data": {
      "text/plain": [
       "[[1, 1, 2], [3, 5, 8]]"
      ]
     },
     "execution_count": 33,
     "metadata": {},
     "output_type": "execute_result"
    }
   ],
   "source": [
    "# method tolist() transform array into a list\n",
    "a.tolist()"
   ]
  },
  {
   "cell_type": "code",
   "execution_count": 34,
   "id": "19993244-29de-486b-8998-c8ff3f1e197e",
   "metadata": {
    "tags": []
   },
   "outputs": [
    {
     "data": {
      "text/plain": [
       "builtin_function_or_method"
      ]
     },
     "execution_count": 34,
     "metadata": {},
     "output_type": "execute_result"
    }
   ],
   "source": [
    "type(a.tolist)"
   ]
  },
  {
   "cell_type": "markdown",
   "id": "63c3c151-3b05-452f-bb65-2a57fd7dde5a",
   "metadata": {},
   "source": [
    "# Exercise\n",
    "\n",
    "1. Read the `print` function help. What is the type of arguments `sep` `?` Is this a default or non-default argument? Why?\n",
    "\n",
    "2. Create two new variables, one with the integer value 77 and another one with the strong 99. \n",
    "\n",
    "3. Use your variables to print 77%99%77 by changing the value of one of the default arguments in `print` "
   ]
  },
  {
   "cell_type": "code",
   "execution_count": 35,
   "id": "e1590e38-9d53-478f-a30a-b21204fe002c",
   "metadata": {
    "tags": []
   },
   "outputs": [
    {
     "data": {
      "text/plain": [
       "\u001b[0;31mDocstring:\u001b[0m\n",
       "print(value, ..., sep=' ', end='\\n', file=sys.stdout, flush=False)\n",
       "\n",
       "Prints the values to a stream, or to sys.stdout by default.\n",
       "Optional keyword arguments:\n",
       "file:  a file-like object (stream); defaults to the current sys.stdout.\n",
       "sep:   string inserted between values, default a space.\n",
       "end:   string appended after the last value, default a newline.\n",
       "flush: whether to forcibly flush the stream.\n",
       "\u001b[0;31mType:\u001b[0m      builtin_function_or_method\n"
      ]
     },
     "metadata": {},
     "output_type": "display_data"
    }
   ],
   "source": [
    "?print"
   ]
  },
  {
   "cell_type": "code",
   "execution_count": 40,
   "id": "096cdaae-6e4d-4385-96d9-775c0dec1b1d",
   "metadata": {
    "tags": []
   },
   "outputs": [],
   "source": [
    "b = 77\n",
    "c = '99'"
   ]
  },
  {
   "cell_type": "code",
   "execution_count": 41,
   "id": "cc178b31-4ba9-4197-b1d8-4382023b9c80",
   "metadata": {
    "tags": []
   },
   "outputs": [
    {
     "name": "stdout",
     "output_type": "stream",
     "text": [
      "77%99%77\n"
     ]
    }
   ],
   "source": [
    "print(b,c,b, sep = \"%\")"
   ]
  },
  {
   "cell_type": "code",
   "execution_count": null,
   "id": "ea094b44-f1e7-405f-914b-f6de107084ee",
   "metadata": {},
   "outputs": [],
   "source": []
  }
 ],
 "metadata": {
  "kernelspec": {
   "display_name": "Anaconda 3 (Base)",
   "language": "python",
   "name": "base"
  },
  "language_info": {
   "codemirror_mode": {
    "name": "ipython",
    "version": 3
   },
   "file_extension": ".py",
   "mimetype": "text/x-python",
   "name": "python",
   "nbconvert_exporter": "python",
   "pygments_lexer": "ipython3",
   "version": "3.9.13"
  }
 },
 "nbformat": 4,
 "nbformat_minor": 5
}
